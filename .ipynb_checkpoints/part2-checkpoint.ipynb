{
 "cells": [
  {
   "cell_type": "code",
   "execution_count": 101,
   "metadata": {},
   "outputs": [],
   "source": [
    "from smith_waterman.algs import *"
   ]
  },
  {
   "cell_type": "code",
   "execution_count": 4,
   "metadata": {},
   "outputs": [],
   "source": [
    "method = 'BLOSUM50'"
   ]
  },
  {
   "cell_type": "code",
   "execution_count": 5,
   "metadata": {},
   "outputs": [],
   "source": [
    "s1 = 'TTTT'"
   ]
  },
  {
   "cell_type": "code",
   "execution_count": 6,
   "metadata": {},
   "outputs": [],
   "source": [
    "s2 = 'TTTT'"
   ]
  },
  {
   "cell_type": "code",
   "execution_count": 7,
   "metadata": {
    "scrolled": false
   },
   "outputs": [
    {
     "name": "stdout",
     "output_type": "stream",
     "text": [
      "Identity = 100.000000 percent\n",
      "TTTT\n",
      "TTTT\n",
      "TTTT\n"
     ]
    }
   ],
   "source": [
    "s, align1, align2, align = algs.sw(s1, s2, method)"
   ]
  },
  {
   "cell_type": "code",
   "execution_count": 11,
   "metadata": {},
   "outputs": [],
   "source": [
    "assert(align1 == align2 == align == \"TTTT\")"
   ]
  },
  {
   "cell_type": "code",
   "execution_count": 53,
   "metadata": {},
   "outputs": [
    {
     "name": "stdout",
     "output_type": "stream",
     "text": [
      "Identity = 100.000000 percent\n",
      "AAAAAAA\n",
      "AAAAAAA\n",
      "AAAAAAA\n"
     ]
    },
    {
     "data": {
      "text/plain": [
       "(35, 'AAAAAAA', 'AAAAAAA', 'AAAAAAA')"
      ]
     },
     "execution_count": 53,
     "metadata": {},
     "output_type": "execute_result"
    }
   ],
   "source": [
    "algs.sw(\"AAAAAAA\", \"AAAAAAA\", method)"
   ]
  },
  {
   "cell_type": "code",
   "execution_count": 96,
   "metadata": {},
   "outputs": [
    {
     "name": "stdout",
     "output_type": "stream",
     "text": [
      "Identity = 57.142857 percent\n",
      "CA---GT\n",
      "CA...GT\n",
      "CAAAAGT\n"
     ]
    }
   ],
   "source": [
    "score, align1, align2, align = algs.sw(\"CAGT\", \"CAAAAGT\", \"BLOSUM50\")"
   ]
  },
  {
   "cell_type": "code",
   "execution_count": 97,
   "metadata": {},
   "outputs": [
    {
     "data": {
      "text/plain": [
       "18"
      ]
     },
     "execution_count": 97,
     "metadata": {},
     "output_type": "execute_result"
    }
   ],
   "source": [
    "score"
   ]
  },
  {
   "cell_type": "code",
   "execution_count": 98,
   "metadata": {},
   "outputs": [],
   "source": [
    "def get_score(a1, a2, method, gap_start = -10, gap_extend = -2):\n",
    "    score = 0\n",
    "    scoring = read_scoring_matrix(method)\n",
    "    for i in range(len(a1)):\n",
    "        if a1[i] == a2[i]:\n",
    "            score += scoring[a1[i]][a2[i]]\n",
    "    return score"
   ]
  },
  {
   "cell_type": "code",
   "execution_count": 99,
   "metadata": {},
   "outputs": [
    {
     "data": {
      "text/plain": [
       "'CA...GT'"
      ]
     },
     "execution_count": 99,
     "metadata": {},
     "output_type": "execute_result"
    }
   ],
   "source": [
    "align"
   ]
  },
  {
   "cell_type": "code",
   "execution_count": 100,
   "metadata": {
    "scrolled": true
   },
   "outputs": [
    {
     "name": "stdout",
     "output_type": "stream",
     "text": [
      "match\n",
      "C\n",
      "13\n",
      "score 13\n",
      "\n",
      "match\n",
      "A\n",
      "5\n",
      "score 18\n",
      "\n",
      "score 18\n",
      "\n",
      "score 18\n",
      "\n",
      "score 18\n",
      "\n",
      "match\n",
      "G\n",
      "8\n",
      "score 26\n",
      "\n",
      "match\n",
      "T\n",
      "5\n",
      "score 31\n",
      "\n"
     ]
    },
    {
     "data": {
      "text/plain": [
       "31"
      ]
     },
     "execution_count": 100,
     "metadata": {},
     "output_type": "execute_result"
    }
   ],
   "source": [
    "get_score(align, \"BLOSUM50\")"
   ]
  },
  {
   "cell_type": "code",
   "execution_count": 33,
   "metadata": {},
   "outputs": [
    {
     "data": {
      "text/plain": [
       "<function smith_waterman.algs.score(seq1, seq2, method, gap_start=-10, gap_extend=-2)>"
      ]
     },
     "execution_count": 33,
     "metadata": {},
     "output_type": "execute_result"
    }
   ],
   "source": [
    "score"
   ]
  },
  {
   "cell_type": "code",
   "execution_count": null,
   "metadata": {},
   "outputs": [],
   "source": []
  }
 ],
 "metadata": {
  "kernelspec": {
   "display_name": "Python 3",
   "language": "python",
   "name": "python3"
  },
  "language_info": {
   "codemirror_mode": {
    "name": "ipython",
    "version": 3
   },
   "file_extension": ".py",
   "mimetype": "text/x-python",
   "name": "python",
   "nbconvert_exporter": "python",
   "pygments_lexer": "ipython3",
   "version": "3.7.4"
  }
 },
 "nbformat": 4,
 "nbformat_minor": 2
}
