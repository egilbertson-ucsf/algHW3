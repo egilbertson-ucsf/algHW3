{
 "cells": [
  {
   "cell_type": "code",
   "execution_count": 1,
   "metadata": {},
   "outputs": [],
   "source": [
    "import pandas as pd\n",
    "import numpy as np\n",
    "from Bio import SeqIO\n",
    "import itertools\n",
    "from smith_waterman.algs import *"
   ]
  },
  {
   "cell_type": "code",
   "execution_count": 2,
   "metadata": {},
   "outputs": [],
   "source": [
    "gap_start = -10\n",
    "gap_extend = -1"
   ]
  },
  {
   "cell_type": "code",
   "execution_count": 3,
   "metadata": {},
   "outputs": [],
   "source": [
    "method = 'BLOSUM50'"
   ]
  },
  {
   "cell_type": "code",
   "execution_count": 16,
   "metadata": {},
   "outputs": [],
   "source": [
    "s1 = 'SLEAAQKSNVTSSWAKASAAWGTAGPEFFMAL'"
   ]
  },
  {
   "cell_type": "code",
   "execution_count": 17,
   "metadata": {},
   "outputs": [],
   "source": [
    "s2 = 'SLEAAQKSNVWGTAGPEFFMAL'"
   ]
  },
  {
   "cell_type": "code",
   "execution_count": 6,
   "metadata": {
    "scrolled": false
   },
   "outputs": [],
   "source": [
    "M, X, Y = initialize_scoring_matrices(a, b)\n",
    "scoring = read_scoring_matrix(method)\n",
    "M, X, Y, PM, PX, PY = fill_matrix(M, X, Y, scoring, a, b, gap_start, gap_extend)"
   ]
  },
  {
   "cell_type": "code",
   "execution_count": null,
   "metadata": {},
   "outputs": [],
   "source": []
  },
  {
   "cell_type": "code",
   "execution_count": 12,
   "metadata": {
    "scrolled": true
   },
   "outputs": [],
   "source": [
    "SMat, T, score = choose_trace_start(M, X, Y, PM, PX, PY)"
   ]
  },
  {
   "cell_type": "code",
   "execution_count": 14,
   "metadata": {},
   "outputs": [],
   "source": [
    "i, j = get_max_loc(T)"
   ]
  },
  {
   "cell_type": "code",
   "execution_count": 23,
   "metadata": {},
   "outputs": [
    {
     "name": "stdout",
     "output_type": "stream",
     "text": [
      "Identity = 67.741935 percent\n",
      "Score = 121\n",
      "SLEAAQKSNVTSSWAKASAAWGTAGPEFFMA\n",
      "SLEAAQKSNV          WGTAGPEFFMA\n",
      "SLEAAQKSNV----------WGTAGPEFFMA\n"
     ]
    }
   ],
   "source": [
    "#Traceback\n",
    "i, j = get_max_loc(T)\n",
    "align1, align2 = '', ''\n",
    "while T[i][j] != 0:\n",
    "    if T[i][j] == 3:\n",
    "        a1 = s1[i-1]\n",
    "        a2 = s2[j-1]\n",
    "        i -= 1\n",
    "        j -= 1\n",
    "    elif T[i][j] == 2:\n",
    "        a1 = '-'\n",
    "        a2 = s2[j-1]\n",
    "        j -= 1\n",
    "    elif T[i][j] == 1:\n",
    "        a1 = s1[i-1]\n",
    "        a2 = '-'\n",
    "        i -= 1\n",
    "    align1 += a1\n",
    "    align2 += a2\n",
    "\n",
    "align1 = align1[::-1]\n",
    "align2 = align2[::-1]\n",
    "sym = ''\n",
    "iden = 0\n",
    "for i in range(len(align1)):\n",
    "    a1 = align1[i]\n",
    "    a2 = align2[i]\n",
    "    if a1 == a2:                \n",
    "        sym += a1\n",
    "        iden += 1\n",
    "    elif a1 != a2 and a1 != '-' and a2 != '-': \n",
    "        sym += ' '\n",
    "    elif a1 == '-' or a2 == '-':          \n",
    "        sym += ' '\n",
    "\n",
    "identity = iden / len(align1) * 100\n",
    "print('Identity = %f percent' % identity)\n",
    "print('Score =', score)\n",
    "print(align1)\n",
    "print(sym)\n",
    "print(align2)"
   ]
  },
  {
   "cell_type": "code",
   "execution_count": 21,
   "metadata": {},
   "outputs": [
    {
     "data": {
      "text/plain": [
       "''"
      ]
     },
     "execution_count": 21,
     "metadata": {},
     "output_type": "execute_result"
    }
   ],
   "source": []
  },
  {
   "cell_type": "code",
   "execution_count": null,
   "metadata": {},
   "outputs": [],
   "source": []
  }
 ],
 "metadata": {
  "kernelspec": {
   "display_name": "Python 3",
   "language": "python",
   "name": "python3"
  },
  "language_info": {
   "codemirror_mode": {
    "name": "ipython",
    "version": 3
   },
   "file_extension": ".py",
   "mimetype": "text/x-python",
   "name": "python",
   "nbconvert_exporter": "python",
   "pygments_lexer": "ipython3",
   "version": "3.7.4"
  }
 },
 "nbformat": 4,
 "nbformat_minor": 2
}
