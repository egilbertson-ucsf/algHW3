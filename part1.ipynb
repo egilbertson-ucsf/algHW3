{
 "cells": [
  {
   "cell_type": "markdown",
   "metadata": {},
   "source": [
    "# Part 1"
   ]
  },
  {
   "cell_type": "code",
   "execution_count": 12,
   "metadata": {},
   "outputs": [],
   "source": [
    "from smith_waterman import algs\n",
    "from Bio import SeqIO\n",
    "import matplotlib.pyplot as plt\n",
    "import pandas as pd\n",
    "import matplotlib.pyplot as plt\n",
    "import numpy as np"
   ]
  },
  {
   "cell_type": "markdown",
   "metadata": {},
   "source": [
    "## Functions"
   ]
  },
  {
   "cell_type": "code",
   "execution_count": 4,
   "metadata": {},
   "outputs": [],
   "source": [
    "def opt_e(method):\n",
    "    fp_list = []\n",
    "    o = -10\n",
    "    for e in range(-1, -6, -1):\n",
    "        d = get_data()\n",
    "        d = all_sw(d, method, o, e)\n",
    "        fp = get_threshold(d)\n",
    "        fp_list.append([fp, [o, e]])\n",
    "    return fp_list\n",
    "\n",
    "def get_data():\n",
    "    p = pd.read_table('Pospairs.txt', header = None, sep = ' ', names = ['A','B'])\n",
    "    n = pd.read_table('Negpairs.txt', header = None, sep = ' ', names = ['A', 'B'])\n",
    "    p['Truth'] = 1\n",
    "    n['Truth'] = 0\n",
    "    pairs = p.append(n, ignore_index=True)\n",
    "    data = pairs\n",
    "    data['Score'] = 0\n",
    "    \n",
    "    return data\n",
    "\n",
    "def opt_o(method):\n",
    "    fp_list = []\n",
    "    e = -1\n",
    "    for o in range(-1,-21, -1):\n",
    "        d = get_data()\n",
    "        d = all_sw(d, method, o, e)\n",
    "        fp = get_threshold(d)\n",
    "        fp_list.append([fp, [o, e]])\n",
    "    return fp_list\n",
    "\n",
    "def all_sw(d, method, o, e):\n",
    "    for row in d.index:\n",
    "        a = algs.read_seq_file(d['A'][row])\n",
    "        b = algs.read_seq_file(d['B'][row])\n",
    "        s, align1, align2, align = algs.sw(a, b, method, o, e)\n",
    "        d['Score'][row] += s\n",
    "    return d\n",
    "\n",
    "\n",
    "def get_threshold(a):\n",
    "    a = a.sort_values(by='Score', ascending=False)\n",
    "    fp = 0\n",
    "    tp = 0\n",
    "    i = 0\n",
    "    while tp < (0.7*50):\n",
    "        if a.iloc[i]['Truth'] == 1:\n",
    "            tp += 1\n",
    "        else:\n",
    "            fp += 1\n",
    "        i += 1\n",
    "    return [i, tp, fp, a.iloc[i]['Score']]"
   ]
  },
  {
   "cell_type": "markdown",
   "metadata": {},
   "source": [
    "## Question 1"
   ]
  },
  {
   "cell_type": "code",
   "execution_count": 5,
   "metadata": {
    "scrolled": false
   },
   "outputs": [
    {
     "name": "stderr",
     "output_type": "stream",
     "text": [
      "/Users/egilbertson/anaconda3/lib/python3.7/site-packages/ipykernel_launcher.py:37: SettingWithCopyWarning: \n",
      "A value is trying to be set on a copy of a slice from a DataFrame\n",
      "\n",
      "See the caveats in the documentation: http://pandas.pydata.org/pandas-docs/stable/user_guide/indexing.html#returning-a-view-versus-a-copy\n"
     ]
    }
   ],
   "source": [
    "fp_e = opt_e(\"BLOSUM50\")"
   ]
  },
  {
   "cell_type": "code",
   "execution_count": 6,
   "metadata": {
    "scrolled": true
   },
   "outputs": [
    {
     "data": {
      "text/plain": [
       "[[[46, 35, 11, 50], [-10, -1]],\n",
       " [[49, 35, 14, 41], [-10, -2]],\n",
       " [[54, 35, 19, 38], [-10, -3]],\n",
       " [[54, 35, 19, 37], [-10, -4]],\n",
       " [[54, 35, 19, 36], [-10, -5]]]"
      ]
     },
     "execution_count": 6,
     "metadata": {},
     "output_type": "execute_result"
    }
   ],
   "source": [
    "fp_e"
   ]
  },
  {
   "cell_type": "markdown",
   "metadata": {},
   "source": [
    "calculate the FPR from number of false positives: number FP / number above threshold"
   ]
  },
  {
   "cell_type": "code",
   "execution_count": 7,
   "metadata": {},
   "outputs": [
    {
     "data": {
      "text/plain": [
       "[[[46, 35, 11, 50], [-10, -1], 0.2391304347826087],\n",
       " [[49, 35, 14, 41], [-10, -2], 0.2857142857142857],\n",
       " [[54, 35, 19, 38], [-10, -3], 0.35185185185185186],\n",
       " [[54, 35, 19, 37], [-10, -4], 0.35185185185185186],\n",
       " [[54, 35, 19, 36], [-10, -5], 0.35185185185185186]]"
      ]
     },
     "execution_count": 7,
     "metadata": {},
     "output_type": "execute_result"
    }
   ],
   "source": [
    "for i in fp_e:\n",
    "    i.append(i[0][2] / i[0][0])\n",
    "fp_e"
   ]
  },
  {
   "cell_type": "code",
   "execution_count": 8,
   "metadata": {},
   "outputs": [
    {
     "name": "stderr",
     "output_type": "stream",
     "text": [
      "/Users/egilbertson/anaconda3/lib/python3.7/site-packages/ipykernel_launcher.py:37: SettingWithCopyWarning: \n",
      "A value is trying to be set on a copy of a slice from a DataFrame\n",
      "\n",
      "See the caveats in the documentation: http://pandas.pydata.org/pandas-docs/stable/user_guide/indexing.html#returning-a-view-versus-a-copy\n"
     ]
    }
   ],
   "source": [
    "fp_o = opt_o(\"BLOSUM50\")"
   ]
  },
  {
   "cell_type": "markdown",
   "metadata": {},
   "source": [
    "calculate FPR, same as above"
   ]
  },
  {
   "cell_type": "code",
   "execution_count": 9,
   "metadata": {},
   "outputs": [
    {
     "data": {
      "text/plain": [
       "[[[52, 35, 17, 202], [-1, -1], 0.3269230769230769],\n",
       " [[53, 35, 18, 163], [-2, -1], 0.33962264150943394],\n",
       " [[50, 35, 15, 146], [-3, -1], 0.3],\n",
       " [[50, 35, 15, 120], [-4, -1], 0.3],\n",
       " [[49, 35, 14, 105], [-5, -1], 0.2857142857142857],\n",
       " [[48, 35, 13, 88], [-6, -1], 0.2708333333333333],\n",
       " [[49, 35, 14, 75], [-7, -1], 0.2857142857142857],\n",
       " [[51, 35, 16, 63], [-8, -1], 0.3137254901960784],\n",
       " [[47, 35, 12, 58], [-9, -1], 0.2553191489361702],\n",
       " [[46, 35, 11, 50], [-10, -1], 0.2391304347826087],\n",
       " [[47, 35, 12, 45], [-11, -1], 0.2553191489361702],\n",
       " [[49, 35, 14, 42], [-12, -1], 0.2857142857142857],\n",
       " [[50, 35, 15, 40], [-13, -1], 0.3],\n",
       " [[54, 35, 19, 38], [-14, -1], 0.35185185185185186],\n",
       " [[54, 35, 19, 37], [-15, -1], 0.35185185185185186],\n",
       " [[53, 35, 18, 36], [-16, -1], 0.33962264150943394],\n",
       " [[53, 35, 18, 36], [-17, -1], 0.33962264150943394],\n",
       " [[55, 35, 20, 36], [-18, -1], 0.36363636363636365],\n",
       " [[54, 35, 19, 36], [-19, -1], 0.35185185185185186],\n",
       " [[53, 35, 18, 36], [-20, -1], 0.33962264150943394]]"
      ]
     },
     "execution_count": 9,
     "metadata": {},
     "output_type": "execute_result"
    }
   ],
   "source": [
    "for i in fp_o:\n",
    "    i.append(i[0][2] / i[0][0])\n",
    "fp_o"
   ]
  },
  {
   "cell_type": "markdown",
   "metadata": {},
   "source": [
    "Set up dictionary of all scoring methods as keys and a dataframe to fill scores in as entries. \n",
    "Run SW on all pairs using each matrix and record the scores. "
   ]
  },
  {
   "cell_type": "code",
   "execution_count": 10,
   "metadata": {},
   "outputs": [
    {
     "name": "stdout",
     "output_type": "stream",
     "text": [
      "BLOSUM50\n"
     ]
    },
    {
     "name": "stderr",
     "output_type": "stream",
     "text": [
      "/Users/egilbertson/anaconda3/lib/python3.7/site-packages/ipykernel_launcher.py:37: SettingWithCopyWarning: \n",
      "A value is trying to be set on a copy of a slice from a DataFrame\n",
      "\n",
      "See the caveats in the documentation: http://pandas.pydata.org/pandas-docs/stable/user_guide/indexing.html#returning-a-view-versus-a-copy\n"
     ]
    },
    {
     "name": "stdout",
     "output_type": "stream",
     "text": [
      "BLOSUM62\n",
      "MATIO\n",
      "PAM100\n",
      "PAM250\n"
     ]
    }
   ],
   "source": [
    "methods = dict.fromkeys([\"BLOSUM50\", \"BLOSUM62\", \"MATIO\", \"PAM100\", \"PAM250\"])\n",
    "for method in methods.keys():\n",
    "    print(method)\n",
    "    data = get_data()\n",
    "    methods[method] = all_sw(data, method, -10, -1)\n",
    "    "
   ]
  },
  {
   "cell_type": "markdown",
   "metadata": {},
   "source": [
    "## Question 2"
   ]
  },
  {
   "cell_type": "code",
   "execution_count": null,
   "metadata": {},
   "outputs": [],
   "source": [
    "def roc_auc():\n",
    "    TPs = []\n",
    "    FPs = []\n",
    "    t = 0\n",
    "    f = 0\n",
    "    for row in df.index:\n",
    "        if df['Truth'][row] == 1:\n",
    "            t += 1\n",
    "        else:\n",
    "            f += 1\n",
    "        TPs.append(t/50)\n",
    "        FPs.append(f/50)\n",
    "        \n",
    "    auc = round(np.trapz(TPs, FPs), 3)\n",
    "    \n",
    "    return auc"
   ]
  },
  {
   "cell_type": "code",
   "execution_count": 13,
   "metadata": {},
   "outputs": [
    {
     "data": {
      "text/plain": [
       "Text(0, 0.5, 'True Positive Rate')"
      ]
     },
     "execution_count": 13,
     "metadata": {},
     "output_type": "execute_result"
    },
    {
     "data": {
      "image/png": "[encoded data removed]",
      "text/plain": [
       "<Figure size 360x360 with 1 Axes>"
      ]
     },
     "metadata": {
      "needs_background": "light"
     },
     "output_type": "display_data"
    }
   ],
   "source": [
    "plt.figure(figsize=[5,5])\n",
    "for method in methods.keys():\n",
    "    df = methods[method]\n",
    "    df = df.sort_values(by='Score', ascending=False)\n",
    "    TPs = []\n",
    "    FPs = []\n",
    "    t = 0\n",
    "    f = 0\n",
    "    for row in df.index:\n",
    "        if df['Truth'][row] == 1:\n",
    "            t += 1\n",
    "        else:\n",
    "            f += 1\n",
    "        TPs.append(t/50)\n",
    "        FPs.append(f/50)\n",
    "        \n",
    "    auc = round(np.trapz(TPs, FPs), 3)\n",
    "    l = method + '(AUC = ' + str(auc) + ')'\n",
    "    plt.plot(FPs, TPs, label = l)\n",
    "    plt.legend()\n",
    "plt.xlabel('False Positive Rate')\n",
    "plt.ylabel('True Positive Rate')    \n"
   ]
  },
  {
   "cell_type": "markdown",
   "metadata": {},
   "source": [
    "## Question 3"
   ]
  },
  {
   "cell_type": "code",
   "execution_count": 15,
   "metadata": {},
   "outputs": [],
   "source": [
    "p100 = methods['PAM100']\n",
    "norm_scores = []\n",
    "for row in p100.index:\n",
    "    l1 = len(algs.read_seq_file(p100['A'][row]))\n",
    "    l2 = len(algs.read_seq_file(p100['B'][row]))\n",
    "    norm_scores.append(p100['Score'][row] / min(l1, l2))\n",
    "p100['NormScore'] = norm_scores"
   ]
  },
  {
   "cell_type": "code",
   "execution_count": 16,
   "metadata": {},
   "outputs": [
    {
     "data": {
      "text/plain": [
       "Text(0, 0.5, 'True Positive Rate')"
      ]
     },
     "execution_count": 16,
     "metadata": {},
     "output_type": "execute_result"
    },
    {
     "data": {
      "image/png": "[encoded data removed]",
      "text/plain": [
       "<Figure size 360x360 with 1 Axes>"
      ]
     },
     "metadata": {
      "needs_background": "light"
     },
     "output_type": "display_data"
    }
   ],
   "source": [
    "p100 = methods[\"PAM100\"]\n",
    "\n",
    "\n",
    "norm_scores = []\n",
    "for row in p100.index:\n",
    "    l1 = len(algs.read_seq_file(p100['A'][row]))\n",
    "    l2 = len(algs.read_seq_file(p100['B'][row]))\n",
    "    norm_scores.append(p100['Score'][row] / min(l1, l2))\n",
    "p100['NormScore'] = norm_scores\n",
    "\n",
    "\n",
    "p100 = p100.sort_values(by='Score', ascending=False)\n",
    "TPs = []\n",
    "FPs = []\n",
    "t = 0\n",
    "f = 0\n",
    "\n",
    "plt.figure(figsize=[5,5])\n",
    "for row in p100.index:\n",
    "    if p100['Truth'][row] == 1:\n",
    "        t += 1\n",
    "    else:\n",
    "        f += 1\n",
    "    TPs.append(t/50)\n",
    "    FPs.append(f/50)\n",
    "auc = round(np.trapz(TPs, FPs), 3)\n",
    "l = 'Raw (AUC = ' + str(auc) + ')' \n",
    "plt.plot(FPs, TPs, label = l)\n",
    "plt.legend()\n",
    "\n",
    "\n",
    "p100 = p100.sort_values(by='NormScore', ascending=False)\n",
    "TPs = []\n",
    "FPs = []\n",
    "t = 0\n",
    "f = 0\n",
    "for row in p100.index:\n",
    "    if p100['Truth'][row] == 1:\n",
    "        t += 1\n",
    "    else:\n",
    "        f += 1\n",
    "    TPs.append(t/50)\n",
    "    FPs.append(f/50)\n",
    "auc = round(np.trapz(TPs, FPs), 3)\n",
    "l = 'Normalized (AUC = ' + str(auc) + ')' \n",
    "plt.plot(FPs, TPs, label = l)\n",
    "plt.legend()\n",
    "plt.xlabel('False Positive Rate')\n",
    "plt.ylabel('True Positive Rate')  "
   ]
  },
  {
   "cell_type": "code",
   "execution_count": null,
   "metadata": {},
   "outputs": [],
   "source": []
  }
 ],
 "metadata": {
  "kernelspec": {
   "display_name": "Python 3",
   "language": "python",
   "name": "python3"
  },
  "language_info": {
   "codemirror_mode": {
    "name": "ipython",
    "version": 3
   },
   "file_extension": ".py",
   "mimetype": "text/x-python",
   "name": "python",
   "nbconvert_exporter": "python",
   "pygments_lexer": "ipython3",
   "version": "3.7.4"
  }
 },
 "nbformat": 4,
 "nbformat_minor": 2
}
